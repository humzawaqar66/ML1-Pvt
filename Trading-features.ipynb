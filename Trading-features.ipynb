{
 "cells": [
  {
   "cell_type": "code",
   "execution_count": null,
   "id": "d8f61293",
   "metadata": {},
   "outputs": [],
   "source": [
    "\n",
    "# Trading Features Dataset Cleaning and Analysis\n",
    "\n",
    "The \"Trading-features.csv\" dataset contains information related to stock trading features.\n",
    "This dataset aims to provide insights into various aspects of stock trading, allowing users\n",
    "to analyze and understand the dynamics of the stock market.\n",
    "\n",
    "## Approach:\n",
    "\n",
    "### Load the Dataset:\n",
    "The script starts by loading the trading features dataset from the CSV file using the pd.read_csv function.\n",
    "\n",
    "###Basic Information and Missing Values:\n",
    "The basic information about the dataset is displayed using the df.info() method. This includes the data types of each column and the presence of missing values.\n",
    "The script checks for missing values in each column using df.isnull().sum() and prints the results.\n",
    "\n",
    "###Handling Missing Values:\n",
    "The script provides an example of handling missing values. Two common approaches are shown:\n",
    "Drop rows with missing values: df = df.dropna()\n",
    "Fill missing values with a specific value: df = df.fillna(value)\n",
    "\n",
    "###Check for Duplicates:\n",
    "The script checks for duplicate rows using df.duplicated().sum() and prints the number of duplicate rows.\n",
    "If necessary, duplicate rows can be dropped using df = df.drop_duplicates().\n",
    "\n",
    "###Identify and Handle Outliers:\n",
    "Numerical columns are identified using df.select_dtypes(include=['float64', 'int64']).columns.\n",
    "Box plots are created for each numerical column using sns.boxplot. This helps identify outliers and visualize the distribution of values.\n",
    "\n",
    "###Print Dataset Insights:\n",
    "The script prints additional insights about the dataset:\n",
    "Number of rows and columns: print(\"Number of rows:\", len(df)) and print(\"Number of columns:\", len(df.columns)).\n",
    "\n",
    "###Summary Statistics:\n",
    "The script prints summary statistics of the dataset using df.describe().\n",
    "\n",
    "###Save the Cleaned Dataset:\n",
    "The cleaned dataset is saved to a new CSV file named \"Cleaned-Trading-features.csv\" using df.to_csv.\n",
    "\n",
    "###Display Cleaned Dataset Information:\n",
    "The script displays basic information about the cleaned dataset using df.info() after the cleaning operations.\n",
    "\n",
    "###Usage:\n",
    "Ensure the \"Trading-features.csv\" file is in the correct path.\n",
    "Execute the script to load, clean, analyze, and save the dataset.\n",
    "Review the printed information and summary statistics to gain insights into the dataset."
   ]
  },
  {
   "cell_type": "code",
   "execution_count": 40,
   "id": "a2d7dacc",
   "metadata": {},
   "outputs": [],
   "source": [
    "import pandas as pd\n",
    "import matplotlib.pyplot as plt\n",
    "import seaborn as sns"
   ]
  },
  {
   "cell_type": "code",
   "execution_count": 41,
   "id": "48e9675f",
   "metadata": {},
   "outputs": [],
   "source": [
    "# Additional settings for Jupyter to display plots inline\n",
    "%matplotlib inline\n",
    "\n",
    "# (Optional) Customize default Seaborn style\n",
    "sns.set(style=\"whitegrid\")"
   ]
  },
  {
   "cell_type": "code",
   "execution_count": 12,
   "id": "5bd3785f",
   "metadata": {},
   "outputs": [
    {
     "name": "stdout",
     "output_type": "stream",
     "text": [
      "<class 'pandas.core.frame.DataFrame'>\n",
      "RangeIndex: 10000 entries, 0 to 9999\n",
      "Columns: 164 entries, id to f161\n",
      "dtypes: float64(136), int64(27), object(1)\n",
      "memory usage: 12.5+ MB\n",
      "None\n",
      "Missing values:\n",
      " id            0\n",
      "last_price    0\n",
      "created_at    0\n",
      "f1            0\n",
      "f2            0\n",
      "             ..\n",
      "f157          0\n",
      "f158          0\n",
      "f159          0\n",
      "f160          0\n",
      "f161          0\n",
      "Length: 164, dtype: int64\n"
     ]
    }
   ],
   "source": [
    "# Load the dataset\n",
    "file_path = \"Trading-features.csv\"\n",
    "df = pd.read_csv(file_path)\n",
    "\n",
    "# Display basic information about the dataset\n",
    "print(df.info())\n",
    "\n",
    "# Check for missing values\n",
    "print(\"Missing values:\\n\", df.isnull().sum())\n",
    "# Handle missing values\n",
    "# Example: If there are missing values in a column, you can choose to drop or fill them\n",
    "# df = df.dropna()  # Drop rows with missing values\n",
    "# df = df.fillna(value)  # Fill missing values with a specific value"
   ]
  },
  {
   "cell_type": "code",
   "execution_count": 42,
   "id": "c763abb2",
   "metadata": {},
   "outputs": [
    {
     "name": "stdout",
     "output_type": "stream",
     "text": [
      "Duplicate rows: 0\n"
     ]
    }
   ],
   "source": [
    "# Check for duplicates\n",
    "print(\"Duplicate rows:\", df.duplicated().sum())\n",
    "\n",
    "# Drop duplicates if necessary\n",
    "# df = df.drop_duplicates()"
   ]
  },
  {
   "cell_type": "code",
   "execution_count": 43,
   "id": "bcd886c8",
   "metadata": {},
   "outputs": [
    {
     "name": "stdout",
     "output_type": "stream",
     "text": [
      "Number of rows: 10000\n"
     ]
    }
   ],
   "source": [
    "print(\"Number of rows:\", len(df))"
   ]
  },
  {
   "cell_type": "code",
   "execution_count": 44,
   "id": "ced0c776",
   "metadata": {},
   "outputs": [
    {
     "name": "stdout",
     "output_type": "stream",
     "text": [
      "DataFrame shape after removing outliers: (10000, 164)\n",
      "No outliers found.\n"
     ]
    }
   ],
   "source": [
    "# Display the shape of the DataFrame after removing outliers\n",
    "print(\"DataFrame shape after removing outliers:\", df.shape)\n",
    "\n",
    "# Check if outliers were removed\n",
    "if df.shape[0] < df.shape[0]:\n",
    "    print(\"Outliers were present and have been removed.\")\n",
    "else:\n",
    "    print(\"No outliers found.\")"
   ]
  },
  {
   "cell_type": "code",
   "execution_count": null,
   "id": "9f72d2f3",
   "metadata": {},
   "outputs": [],
   "source": [
    "# Perform other cleaning operations as needed"
   ]
  },
  {
   "cell_type": "code",
   "execution_count": 45,
   "id": "228a3884",
   "metadata": {},
   "outputs": [
    {
     "name": "stdout",
     "output_type": "stream",
     "text": [
      "\n",
      "Summary statistics:\n",
      "                 id    last_price            f1           f2            f3  \\\n",
      "count  1.000000e+04  10000.000000  10000.000000  10000.00000  10000.000000   \n",
      "mean   5.546190e+07  42938.580560      0.000414  20149.80990    -40.236010   \n",
      "std    2.890879e+03    205.486455      0.000018   2897.95985      7.212493   \n",
      "min    5.545690e+07  42659.500000      0.000397  15139.00000    -57.800000   \n",
      "25%    5.545940e+07  42747.400000      0.000400  17642.00000    -46.000000   \n",
      "50%    5.546190e+07  42835.850000      0.000408  20146.00000    -38.200000   \n",
      "75%    5.546441e+07  43145.225000      0.000417  22652.25000    -34.500000   \n",
      "max    5.546691e+07  43262.000000      0.000463  25196.00000    -22.100000   \n",
      "\n",
      "                 f4            f5            f6            f7           f8  \\\n",
      "count  10000.000000  10000.000000  10000.000000  10000.000000  10000.00000   \n",
      "mean      42.252370      2.016360      0.523120      1.103560      2.29049   \n",
      "std        9.346334      5.339766     12.883223     17.590602     24.03562   \n",
      "min       15.000000    -27.100000    -51.900000    -59.900000    -75.70000   \n",
      "25%       35.700000      0.000000     -5.600000     -8.300000    -11.00000   \n",
      "50%       40.500000      0.800000      0.000000      0.100000      0.40000   \n",
      "75%       48.500000      3.900000      5.725000      8.800000     12.20000   \n",
      "max      124.200000     85.300000    135.000000    135.700000    179.00000   \n",
      "\n",
      "       ...          f152          f153          f154          f155  \\\n",
      "count  ...  10000.000000  10000.000000  10000.000000  10000.000000   \n",
      "mean   ...    533.201440    -74.606490    533.201440    -74.606490   \n",
      "std    ...    177.929894     46.736091    177.929894     46.736091   \n",
      "min    ...    301.200000   -196.300000    301.200000   -196.300000   \n",
      "25%    ...    359.100000   -104.825000    359.100000   -104.825000   \n",
      "50%    ...    450.800000    -61.200000    450.800000    -61.200000   \n",
      "75%    ...    712.325000    -37.700000    712.325000    -37.700000   \n",
      "max    ...    831.300000     49.400000    831.300000     49.400000   \n",
      "\n",
      "               f156          f157          f158          f159          f160  \\\n",
      "count  10000.000000  10000.000000  10000.000000  10000.000000  10000.000000   \n",
      "mean     -74.606490    533.201440    533.201440    -74.606490    -74.606490   \n",
      "std       46.736091    177.929894    177.929894     46.736091     46.736091   \n",
      "min     -196.300000    301.200000    301.200000   -196.300000   -196.300000   \n",
      "25%     -104.825000    359.100000    359.100000   -104.825000   -104.825000   \n",
      "50%      -61.200000    450.800000    450.800000    -61.200000    -61.200000   \n",
      "75%      -37.700000    712.325000    712.325000    -37.700000    -37.700000   \n",
      "max       49.400000    831.300000    831.300000     49.400000     49.400000   \n",
      "\n",
      "               f161  \n",
      "count  10000.000000  \n",
      "mean     533.201440  \n",
      "std      177.929894  \n",
      "min      301.200000  \n",
      "25%      359.100000  \n",
      "50%      450.800000  \n",
      "75%      712.325000  \n",
      "max      831.300000  \n",
      "\n",
      "[8 rows x 163 columns]\n",
      "<class 'pandas.core.frame.DataFrame'>\n",
      "RangeIndex: 10000 entries, 0 to 9999\n",
      "Columns: 164 entries, id to f161\n",
      "dtypes: float64(136), int64(27), object(1)\n",
      "memory usage: 12.5+ MB\n",
      "\n",
      "Cleaned dataset info:\n",
      " None\n"
     ]
    }
   ],
   "source": [
    "# Additional insights or summary statistics\n",
    "print(\"\\nSummary statistics:\")\n",
    "print(df.describe())\n",
    "\n",
    "# Save the dataset\n",
    "cleaned_file_path = \"Cleaned-Trading-features.csv\"\n",
    "df.to_csv(cleaned_file_path, index=False)\n",
    "\n",
    "# Display basic information about the cleaned dataset\n",
    "print(\"\\nCleaned dataset info:\\n\", df.info())\n"
   ]
  },
  {
   "cell_type": "code",
   "execution_count": null,
   "id": "a2953921",
   "metadata": {},
   "outputs": [],
   "source": []
  }
 ],
 "metadata": {
  "kernelspec": {
   "display_name": "Python 3 (ipykernel)",
   "language": "python",
   "name": "python3"
  },
  "language_info": {
   "codemirror_mode": {
    "name": "ipython",
    "version": 3
   },
   "file_extension": ".py",
   "mimetype": "text/x-python",
   "name": "python",
   "nbconvert_exporter": "python",
   "pygments_lexer": "ipython3",
   "version": "3.11.5"
  }
 },
 "nbformat": 4,
 "nbformat_minor": 5
}
