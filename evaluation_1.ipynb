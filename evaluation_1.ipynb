{
 "cells": [
  {
   "cell_type": "markdown",
   "id": "3443b3de",
   "metadata": {},
   "source": [
    "### Question 1\n",
    "Given a list of integers nums and an integer target, return <i>indices of the two numbers such that they add up to target<i>. <br>\n",
    "\n",
    "Example 1:<br>\n",
    "\n",
    "Input: nums = [2,7,11,15], target = 9<br>\n",
    "Output: [0,1]"
   ]
  },
  {
   "cell_type": "code",
   "execution_count": null,
   "id": "ff1e5aa2",
   "metadata": {},
   "outputs": [],
   "source": []
  },
  {
   "cell_type": "markdown",
   "id": "e473f396",
   "metadata": {},
   "source": [
    "### Question 2\n",
    "Given an integer x,<i> return true if x is a <br>\n",
    "palindrome</i><br>\n",
    ", and false otherwise. <br>\n",
    "Example 1:<br>\n",
    "\n",
    "Input: x = 121<br>\n",
    "Output: true<br>\n"
   ]
  },
  {
   "cell_type": "code",
   "execution_count": null,
   "id": "83e210c0",
   "metadata": {},
   "outputs": [],
   "source": [
    "def is_palindrome(num):\n",
    "    str_num=str(num)\n",
    "    \n",
    "    return str_num==str_num[::-1]\n",
    "number= 121\n",
    "if is_palindrome(number):\n",
    "    print(f\"{number} is palindrome\")\n",
    "else:\n",
    "    print(f\"{number} is not a palindrome\")\n",
    "    "
   ]
  },
  {
   "cell_type": "markdown",
   "id": "a2f1a21b",
   "metadata": {},
   "source": [
    "# Question 3\n",
    "Given two strings needle and haystack, return the index of the first occurrence of needle in haystack, or -1 if needle is not part of haystack.<br>\n",
    "\n",
    "Example 1:<br>\n",
    "Input: haystack = \"sadbutsad\", needle = \"sad\" <br>\n",
    "Output: 0<br>\n",
    "Explanation: \"sad\" occurs at index 0 and 6.<br>\n",
    "The first occurrence is at index 0, so we return 0.<br>\n",
    "\n",
    "Example 2:<br>\n",
    "Input: haystack = \"apple\", needle = \"appo\"<br>\n",
    "Output: -1<br>\n",
    "Explanation: \"leeto\" did not occur in \"leetcode\", so we return -1.<br>"
   ]
  },
  {
   "cell_type": "code",
   "execution_count": null,
   "id": "d4aeb342",
   "metadata": {},
   "outputs": [],
   "source": []
  },
  {
   "cell_type": "markdown",
   "id": "916e39e1",
   "metadata": {},
   "source": [
    "### Question 4\n",
    "\n",
    "Enter a number and have the program generate the Fibonacci sequence to that number or to the Nth number."
   ]
  },
  {
   "cell_type": "code",
   "execution_count": null,
   "id": "2bc0707f",
   "metadata": {},
   "outputs": [],
   "source": [
    "def generate_fibonacci(n):\n",
    "    fibonacci_sequence=[0,1]\n",
    "    while True:\n",
    "        next_term=fibonacci_sequence[-1]+fibonacci_sequence[-2]\n",
    "        if next_term>n:\n",
    "            break\n",
    "        fibonacci_sequence.append(next_term)\n",
    "    return fibonacci_sequence\n",
    "given_number=8\n",
    "\n",
    "fibonacci_result=generate_fibonacci(given_number)\n",
    "print(f\"fibonacci_sequence upto {given_number}:{fibonacci_result}\")"
   ]
  },
  {
   "cell_type": "markdown",
   "id": "1f0c9bfa",
   "metadata": {},
   "source": [
    "### Question 5\n",
    "Given two integers, return True if the sum of the integers is 20 or if one of the integers is 20. If not, return False"
   ]
  },
  {
   "cell_type": "code",
   "execution_count": null,
   "id": "4030ce7f",
   "metadata": {},
   "outputs": [],
   "source": [
    "def is_sum_of_numbers(num1,num2):\n",
    "    return num1+num2==20 or num1==20 or num2==20\n",
    "result=is_sum_of_numbers(10,10)\n",
    "print(result)\n",
    "result=is_sum_of_numbers(10,0)\n",
    "print(result)\n",
    "result=is_sum_of_numbers(20,0)\n",
    "print(result)"
   ]
  },
  {
   "cell_type": "markdown",
   "id": "947855f9",
   "metadata": {},
   "source": [
    "### Question 6\n",
    "\n",
    "Convert Celsius to Fahrenheit (Use list comprehension)<br>\n",
    "celsius = [0,10,20.1,34.5]"
   ]
  },
  {
   "cell_type": "code",
   "execution_count": null,
   "id": "ee590475",
   "metadata": {},
   "outputs": [],
   "source": [
    "def celsius_to_fahrenheit(celsius):\n",
    "    return(celsius* 9/5)+32\n",
    "celsius_temperature=[0,10,20,30,37.7]\n",
    "fahrenheit_temperature=[celsius_to_fahrenheit(celsius)for celsius in celsius_temperature]\n",
    "print(\"celsius_temperature:\",celsius_temperature)\n",
    "print(\"fahrenheit_temperature:\",fahrenheit_temperature)"
   ]
  },
  {
   "cell_type": "markdown",
   "id": "26d6af81",
   "metadata": {},
   "source": [
    "### Question 7\n",
    "\n",
    "Create a simple program to manage a stack? The stack should have a maximum limit of 10 elements. Include two functions: one for adding (pushing) an element to the stack and another for removing (popping) an element from the stack. If the stack is full and someone tries to add an element, return a message saying the stack is full. If the stack is empty and someone tries to remove an element, return a message saying the stack is empty and no element can be removed.<br>\n",
    "\n",
    "<b>Note:</b> Stack follows FIFO (first in first out) rule"
   ]
  },
  {
   "cell_type": "code",
   "execution_count": null,
   "id": "da16794b",
   "metadata": {},
   "outputs": [],
   "source": []
  },
  {
   "cell_type": "markdown",
   "id": "c34f3ddd",
   "metadata": {},
   "source": [
    "### Question 8\n",
    "\n",
    "Create a function which will take list as an input argument! If a number can be divided evenly by 3, print \"fizz.\" If it can be divided evenly by 5, print \"buzz.\" And if it can be divided evenly by both 3 and 5, print \"fizzbuzz.\"<br>\n",
    "<b>Note:</b>Use max two conditional statements."
   ]
  },
  {
   "cell_type": "code",
   "execution_count": null,
   "id": "483439fb",
   "metadata": {},
   "outputs": [],
   "source": [
    "def fizz_buzz(numbers):\n",
    "    for number in numbers:\n",
    "        result=\" \"\n",
    "        if number%3== 0:\n",
    "            result+=\"fizz\"\n",
    "            \n",
    "        if number%5== 0:\n",
    "            result+=\"buzz\"\n",
    "            \n",
    "        print(result or number)\n",
    "number_list=[1,2,3,4,5,15,30]\n",
    "fizz_buzz(number_list)"
   ]
  },
  {
   "cell_type": "code",
   "execution_count": null,
   "id": "b9ead594",
   "metadata": {},
   "outputs": [],
   "source": [
    "pip install numpy"
   ]
  },
  {
   "cell_type": "code",
   "execution_count": null,
   "id": "115d1d8e",
   "metadata": {},
   "outputs": [],
   "source": [
    "class Queue:\n",
    "    def _init_(self):\n",
    "        self.queue = []\n",
    "        self.max_size = 10\n",
    "\n",
    "    def enqueue(self, element):\n",
    "        if len(self.queue) < self.max_size:\n",
    "            self.queue.append(element)\n",
    "            print(f\"Enqueued {element} to the queue.\")\n",
    "        else:\n",
    "            print(\"The queue is full. Cannot enqueue more elements.\")\n",
    "\n",
    "    def dequeue(self):\n",
    "        if len(self.queue) > 0:\n",
    "            dequeued_element = self.queue.pop(0)\n",
    "            print(f\"Dequeued {dequeued_element} from the queue.\")\n",
    "        else:\n",
    "            print(\"The queue is empty. No element to dequeue.\")\n",
    "\n",
    "# Example usage:\n",
    "queue = Queue()\n",
    "queue.enqueue(1)\n",
    "queue.enqueue(2)\n",
    "queue.enqueue(3)\n",
    "queue.dequeue()\n",
    "queue.dequeue()\n",
    "queue.dequeue()\n",
    "queue.dequeue()  # This will print a message saying the queue is empty."
   ]
  },
  {
   "cell_type": "code",
   "execution_count": 1,
   "id": "8f84c1f3",
   "metadata": {},
   "outputs": [
    {
     "name": "stdout",
     "output_type": "stream",
     "text": [
      "Successfully enqueued data: 1\n",
      "Successfully enqueued data: 2\n",
      "Successfully enqueued data: 3\n",
      "Successfully enqueued data: 4\n",
      "Successfully enqueued data: 5\n",
      "Successfully dequeued data: 1\n",
      "Successfully dequeued data: 2\n"
     ]
    }
   ],
   "source": [
    "class Queue:\n",
    "    def __init__(self, limit = 10):\n",
    "        self.queue = []\n",
    "        self.limit = limit\n",
    "\n",
    "    def enqueue(self, data):\n",
    "        if len(self.queue) == self.limit:\n",
    "            return 'Queue is full'\n",
    "        self.queue.append(data)\n",
    "        return 'Successfully enqueued data: ' + str(data)\n",
    "\n",
    "    def dequeue(self):\n",
    "        if len(self.queue) == 0:\n",
    "            return 'Queue is empty'\n",
    "        dequeued_data = self.queue.pop(0)\n",
    "        return 'Successfully dequeued data: ' + str(dequeued_data)\n",
    "\n",
    "queue = Queue()\n",
    "print(queue.enqueue(1))\n",
    "print(queue.enqueue(2))\n",
    "print(queue.enqueue(3))\n",
    "print(queue.enqueue(4))\n",
    "print(queue.enqueue(5))\n",
    "# print(queue.enqueue(6))\n",
    "# print(queue.enqueue(8))\n",
    "# print(queue.enqueue(9))\n",
    "# print(queue.enqueue(10))\n",
    "# print(queue.enqueue(11))\n",
    "# print(queue.enqueue(12))\n",
    "\n",
    "print(queue.dequeue())   \n",
    "print(queue.dequeue())\n",
    "# print(queue.dequeue())  \n",
    "# print(queue.dequeue()) \n",
    "# print(queue.dequeue())\n",
    "# print(queue.dequeue()) \n",
    "# print(queue.dequeue()) \n",
    "# print(queue.dequeue()) \n",
    "# print(queue.dequeue()) \n",
    "# print(queue.dequeue()) \n",
    "# print(queue.dequeue())# Try to remove element, but the queue is empty"
   ]
  },
  {
   "cell_type": "code",
   "execution_count": null,
   "id": "a30d5d6e",
   "metadata": {},
   "outputs": [],
   "source": [
    "import numpy as np\n",
    "\n",
    "queue = np.zeros(10, dtype=int)\n",
    "front = 0\n",
    "rear = 0\n",
    "\n",
    "for i in range(50):\n",
    "    options = input(\"Enter Option 1.dequeue, 2.enqueue, 3.exit: \")\n",
    "\n",
    "    if options == \"enqueue\":\n",
    "        if rear < 10:\n",
    "            number = int(input(\"Enter number that you want to add in queue: \"))\n",
    "            queue[rear] = number\n",
    "            print(queue)\n",
    "            rear += 1\n",
    "            print(\"Rear is -----\", rear)\n",
    "        else:\n",
    "            print(\"Queue is full\")\n",
    "\n",
    "    elif options == \"dequeue\":\n",
    "        if front == rear:\n",
    "            print(\"Queue is empty\")\n",
    "        else:\n",
    "            print(f\"Dequeued {queue[front]} from the queue.\")\n",
    "            queue[front] = 0\n",
    "            front += 1\n",
    "            print(queue)\n",
    "\n",
    "    elif options == \"exit\":\n",
    "        break\n",
    "\n",
    "    else:\n",
    "        print(\"Invalid option. Please enter 'enqueue', 'dequeue', or 'exit'.\")"
   ]
  },
  {
   "cell_type": "code",
   "execution_count": null,
   "id": "a03653ad",
   "metadata": {},
   "outputs": [],
   "source": []
  }
 ],
 "metadata": {
  "kernelspec": {
   "display_name": "Python 3 (ipykernel)",
   "language": "python",
   "name": "python3"
  },
  "language_info": {
   "codemirror_mode": {
    "name": "ipython",
    "version": 3
   },
   "file_extension": ".py",
   "mimetype": "text/x-python",
   "name": "python",
   "nbconvert_exporter": "python",
   "pygments_lexer": "ipython3",
   "version": "3.10.9"
  }
 },
 "nbformat": 4,
 "nbformat_minor": 5
}
