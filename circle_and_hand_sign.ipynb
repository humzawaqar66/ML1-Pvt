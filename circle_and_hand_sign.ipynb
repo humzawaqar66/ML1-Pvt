{
 "cells": [
  {
   "cell_type": "code",
   "execution_count": 11,
   "id": "f191b364",
   "metadata": {},
   "outputs": [
    {
     "data": {
      "text/plain": [
       "'\\nConverting the Circle Color From Red To Black\\n'"
      ]
     },
     "execution_count": 11,
     "metadata": {},
     "output_type": "execute_result"
    }
   ],
   "source": [
    "##Converting the Circle Color From Red To Black"
   ]
  },
  {
   "cell_type": "code",
   "execution_count": 1,
   "id": "524ee3fc",
   "metadata": {},
   "outputs": [],
   "source": [
    "import cv2\n",
    "import numpy as np\n",
    "from PIL import Image\n"
   ]
  },
  {
   "cell_type": "code",
   "execution_count": 2,
   "id": "eb9f4e3a",
   "metadata": {},
   "outputs": [],
   "source": [
    "# Step 1: Load the image using OpenCV\n",
    "image_path = \"redCircle.jpg\"  # Replace with the path to your image file\n",
    "image = cv2.imread(image_path)"
   ]
  },
  {
   "cell_type": "code",
   "execution_count": 9,
   "id": "2bfba62e",
   "metadata": {},
   "outputs": [],
   "source": [
    "# Step 2: Convert the image to RGB (OpenCV uses BGR by default)\n",
    "image_rgb = cv2.cvtColor(image, cv2.COLOR_BGR2RGB)\n",
    "\n",
    "# Step 3: Create a mask to identify the red region\n",
    "lower_red = np.array([100, 0, 0])  # Adjust the lower bound for red color in RGB\n",
    "upper_red = np.array([255, 50, 50])  # Adjust the upper bound for red color in RGB\n",
    "red_mask = cv2.inRange(image_rgb, lower_red, upper_red)\n",
    "\n",
    "# Step 4: Change the color of the red region to black\n",
    "black_color = (0, 0, 0)\n",
    "image_rgb[np.where(red_mask)] = black_color\n",
    "\n",
    "# Step 5: Convert the modified image back to BGR for saving with OpenCV\n",
    "image_bgr_modified = cv2.cvtColor(image_rgb, cv2.COLOR_RGB2BGR)\n",
    "\n",
    "# Step 6: Save the modified image\n",
    "cv2.imwrite(\"circleAndHandSign.jpg\", image_bgr_modified)\n",
    "\n",
    "# Step 7: Display the original and modified images using Pillow\n",
    "original_pillow_image = Image.fromarray(cv2.cvtColor(image, cv2.COLOR_BGR2RGB))\n",
    "modified_pillow_image = Image.fromarray(image_rgb)\n",
    "\n",
    "original_pillow_image.show(title=\"Original Image\")\n",
    "modified_pillow_image.show(title=\"Modified Image\")\n"
   ]
  },
  {
   "cell_type": "code",
   "execution_count": 12,
   "id": "5a9aad4a",
   "metadata": {},
   "outputs": [],
   "source": [
    "## by using the keggle dataset of hand signatures that can be use on given CNIC at hand signature place"
   ]
  },
  {
   "cell_type": "code",
   "execution_count": 21,
   "id": "f69627d8",
   "metadata": {},
   "outputs": [],
   "source": [
    "import os\n",
    "import cv2\n",
    "import numpy as np"
   ]
  },
  {
   "cell_type": "code",
   "execution_count": 35,
   "id": "48ca92eb",
   "metadata": {},
   "outputs": [],
   "source": [
    "def process_image(image1_path, image2_path):\n",
    "    # Load the first image\n",
    "    image = cv2.imread(image1_path)\n",
    "\n",
    "    # Resize the image to 113x43\n",
    "    image = cv2.resize(image, (113, 43))\n",
    "    hsv = cv2.cvtColor(image, cv2.COLOR_BGR2HSV)\n",
    "\n",
    "\n",
    "    lower_black_gray = np.array([0, 0, 0])\n",
    "    upper_black_gray = np.array([100, 255, 100])\n",
    "    black_gray_mask = cv2.inRange(hsv, lower_black_gray, upper_black_gray)\n",
    "\n",
    "    # Load the second image\n",
    "    image_2 = cv2.imread(image2_path)\n",
    "\n",
    "    # Extract the roi from second image\n",
    "    left_upper = (367, 235)\n",
    "    right_bottom = (480, 278)\n",
    "    roi = image_2[left_upper[1]:right_bottom[1], left_upper[0]:right_bottom[0]]\n",
    "\n",
    "\n",
    "    roi[black_gray_mask != 0] = [0, 0, 0]\n",
    "\n",
    "    return image_2\n",
    "\n",
    "for filename in os.listdir(\"Signatures\"):\n",
    "    if filename.endswith(('.jpg', '.jpeg', '.png', '.bmp')):\n",
    "        # Read the image\n",
    "        image1_path = os.path.join(\"Signatures\", filename)\n",
    "        image2_path = \"idcard.jpg\"\n",
    "        image  = process_image(image1_path,image2_path)\n",
    "\n",
    "        output_path = os.path.join(\"Processed_ID_Cards\", f\"ID_Card_{filename}\")\n",
    "        cv2.imwrite(output_path, image)"
   ]
  },
  {
   "cell_type": "code",
   "execution_count": null,
   "id": "cb40dbe0",
   "metadata": {},
   "outputs": [],
   "source": []
  }
 ],
 "metadata": {
  "kernelspec": {
   "display_name": "Python 3 (ipykernel)",
   "language": "python",
   "name": "python3"
  },
  "language_info": {
   "codemirror_mode": {
    "name": "ipython",
    "version": 3
   },
   "file_extension": ".py",
   "mimetype": "text/x-python",
   "name": "python",
   "nbconvert_exporter": "python",
   "pygments_lexer": "ipython3",
   "version": "3.10.9"
  }
 },
 "nbformat": 4,
 "nbformat_minor": 5
}
